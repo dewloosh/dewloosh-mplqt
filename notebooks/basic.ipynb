{
 "cells": [
  {
   "cell_type": "markdown",
   "metadata": {},
   "source": [
    "# Basic Examples"
   ]
  },
  {
   "cell_type": "code",
   "execution_count": 4,
   "metadata": {},
   "outputs": [],
   "source": [
    "import dewloosh.mpl\n",
    "from dewloosh.mplqt.plotwidget import MplFigure\n",
    "from dewloosh.mplqt.stressplotter import StressPlotter"
   ]
  },
  {
   "cell_type": "code",
   "execution_count": 5,
   "metadata": {},
   "outputs": [],
   "source": [
    "import numpy as np\n",
    "import sys\n",
    "from PyQt5.QtWidgets import QApplication\n",
    "import matplotlib.pyplot as plt\n",
    "\n",
    "app = QApplication(sys.argv)\n",
    "\n",
    "np.random.seed(19680801)\n",
    "\n",
    "x = np.arange(-0.5, 10, 0.1)\n",
    "y = np.arange(4.5, 11, 0.1)\n",
    "Z = np.zeros((len(y), len(x)), dtype=np.float32)\n",
    "for i in range(10):\n",
    "    Z += np.random.choice(a=np.arange(0, 1, 0.01),\n",
    "                            size=(len(y), len(x)))\n",
    "\n",
    "w = MplFigure()\n",
    "\n",
    "fig = w.fig\n",
    "ax = fig.add_subplot()\n",
    "ax.pcolormesh(x, y, Z, cmap='Greys')\n",
    "\n",
    "plt.show()"
   ]
  }
 ],
 "metadata": {
  "kernelspec": {
   "display_name": "Python 3.8.10 ('.mplqt': venv)",
   "language": "python",
   "name": "python3"
  },
  "language_info": {
   "codemirror_mode": {
    "name": "ipython",
    "version": 3
   },
   "file_extension": ".py",
   "mimetype": "text/x-python",
   "name": "python",
   "nbconvert_exporter": "python",
   "pygments_lexer": "ipython3",
   "version": "3.8.10"
  },
  "orig_nbformat": 4,
  "vscode": {
   "interpreter": {
    "hash": "e51530fef16699eac838536cde991fc3893609609ab294d981696a2688d7a8b5"
   }
  }
 },
 "nbformat": 4,
 "nbformat_minor": 2
}
